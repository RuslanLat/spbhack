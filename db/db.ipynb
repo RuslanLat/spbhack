{
 "cells": [
  {
   "cell_type": "code",
   "execution_count": 20,
   "metadata": {},
   "outputs": [],
   "source": [
    "import os\n",
    "import pandas as pd\n",
    "import psycopg2\n",
    "from dotenv import load_dotenv"
   ]
  },
  {
   "cell_type": "code",
   "execution_count": 21,
   "metadata": {},
   "outputs": [
    {
     "data": {
      "text/plain": [
       "True"
      ]
     },
     "execution_count": 21,
     "metadata": {},
     "output_type": "execute_result"
    }
   ],
   "source": [
    "load_dotenv()"
   ]
  },
  {
   "cell_type": "code",
   "execution_count": 22,
   "metadata": {},
   "outputs": [],
   "source": [
    "DB_USER = os.getenv('DB_USER')\n",
    "DB_PASS = os.getenv('DB_PASS')\n",
    "DB_HOST = os.getenv('DB_HOST')\n",
    "DB_PORT = os.getenv('DB_PORT')\n",
    "DB_NAME = os.getenv('DB_NAME')"
   ]
  },
  {
   "cell_type": "code",
   "execution_count": 23,
   "metadata": {},
   "outputs": [
    {
     "name": "stdout",
     "output_type": "stream",
     "text": [
      "База данных успешно открыта\n"
     ]
    }
   ],
   "source": [
    "connect = psycopg2.connect(database=DB_NAME,\n",
    "                           user=DB_USER,\n",
    "                           password=DB_PASS,\n",
    "                           host=DB_HOST,\n",
    "                           port=DB_PORT)\n",
    "\n",
    "print('База данных успешно открыта')"
   ]
  },
  {
   "cell_type": "code",
   "execution_count": 16,
   "metadata": {},
   "outputs": [],
   "source": [
    "cursor = connect.cursor()"
   ]
  },
  {
   "cell_type": "code",
   "execution_count": 6,
   "metadata": {},
   "outputs": [
    {
     "data": {
      "text/plain": [
       "[('building',), ('train_building',)]"
      ]
     },
     "execution_count": 6,
     "metadata": {},
     "output_type": "execute_result"
    }
   ],
   "source": [
    "cursor.execute(\"SELECT table_name FROM information_schema.tables \\\n",
    "             WHERE table_schema NOT IN ('information_schema', 'pg_catalog') \\\n",
    "             AND table_schema IN('public', 'myschema');\")\n",
    "cursor.fetchall()"
   ]
  },
  {
   "cell_type": "code",
   "execution_count": 7,
   "metadata": {},
   "outputs": [
    {
     "data": {
      "text/html": [
       "<div>\n",
       "<style scoped>\n",
       "    .dataframe tbody tr th:only-of-type {\n",
       "        vertical-align: middle;\n",
       "    }\n",
       "\n",
       "    .dataframe tbody tr th {\n",
       "        vertical-align: top;\n",
       "    }\n",
       "\n",
       "    .dataframe thead th {\n",
       "        text-align: right;\n",
       "    }\n",
       "</style>\n",
       "<table border=\"1\" class=\"dataframe\">\n",
       "  <thead>\n",
       "    <tr style=\"text-align: right;\">\n",
       "      <th></th>\n",
       "      <th>id</th>\n",
       "      <th>full_address</th>\n",
       "    </tr>\n",
       "  </thead>\n",
       "  <tbody>\n",
       "    <tr>\n",
       "      <th>0</th>\n",
       "      <td>56343</td>\n",
       "      <td>город Пушкин, Кедринская улица, дом 12</td>\n",
       "    </tr>\n",
       "    <tr>\n",
       "      <th>1</th>\n",
       "      <td>595</td>\n",
       "      <td>поселок Ушково, Пляжевая улица, дом 4Б</td>\n",
       "    </tr>\n",
       "    <tr>\n",
       "      <th>2</th>\n",
       "      <td>7134</td>\n",
       "      <td>г.Санкт-Петербург, проспект Маршала Жукова, до...</td>\n",
       "    </tr>\n",
       "    <tr>\n",
       "      <th>3</th>\n",
       "      <td>124415</td>\n",
       "      <td>поселок Белоостров, Дюны, Центральная улица, д...</td>\n",
       "    </tr>\n",
       "    <tr>\n",
       "      <th>4</th>\n",
       "      <td>185368</td>\n",
       "      <td>поселок Песочный, Речная улица, дом 28, литера Б</td>\n",
       "    </tr>\n",
       "  </tbody>\n",
       "</table>\n",
       "</div>"
      ],
      "text/plain": [
       "       id                                       full_address\n",
       "0   56343             город Пушкин, Кедринская улица, дом 12\n",
       "1     595             поселок Ушково, Пляжевая улица, дом 4Б\n",
       "2    7134  г.Санкт-Петербург, проспект Маршала Жукова, до...\n",
       "3  124415  поселок Белоостров, Дюны, Центральная улица, д...\n",
       "4  185368   поселок Песочный, Речная улица, дом 28, литера Б"
      ]
     },
     "execution_count": 7,
     "metadata": {},
     "output_type": "execute_result"
    }
   ],
   "source": [
    "building_20230808 = pd.read_csv(\"../row_data/building_20230808.csv\")\n",
    "building_20230808.head()"
   ]
  },
  {
   "cell_type": "code",
   "execution_count": 13,
   "metadata": {},
   "outputs": [],
   "source": [
    "cursor.execute(\"DROP TABLE IF EXISTS building;\")\n",
    "connect.commit()"
   ]
  },
  {
   "cell_type": "code",
   "execution_count": 14,
   "metadata": {},
   "outputs": [],
   "source": [
    "cursor.execute(\"\"\"CREATE TABLE building( \n",
    "                row_id INTEGER PRIMARY KEY GENERATED BY DEFAULT AS IDENTITY, \n",
    "                id INTEGER UNIQUE NOT NULL,\n",
    "                full_address TEXT NOT NULL);\"\"\")\n",
    "connect.commit() "
   ]
  },
  {
   "cell_type": "code",
   "execution_count": 15,
   "metadata": {},
   "outputs": [
    {
     "data": {
      "text/plain": [
       "array([[56343, 'город Пушкин, Кедринская улица, дом 12'],\n",
       "       [595, 'поселок Ушково, Пляжевая улица, дом 4Б'],\n",
       "       [7134,\n",
       "        'г.Санкт-Петербург, проспект Маршала Жукова, дом 30, корпус 2, литера Е'],\n",
       "       [124415,\n",
       "        'поселок Белоостров, Дюны, Центральная улица, дом 5, корпус 2']],\n",
       "      dtype=object)"
      ]
     },
     "execution_count": 15,
     "metadata": {},
     "output_type": "execute_result"
    }
   ],
   "source": [
    "data = building_20230808.values\n",
    "data[:4]"
   ]
  },
  {
   "cell_type": "code",
   "execution_count": 16,
   "metadata": {},
   "outputs": [],
   "source": [
    "cursor.executemany(\"\"\"INSERT INTO building( \n",
    "                      id, full_address) \n",
    "                      VALUES (%s, %s);\"\"\", data)\n",
    "connect.commit()"
   ]
  },
  {
   "cell_type": "code",
   "execution_count": 17,
   "metadata": {},
   "outputs": [
    {
     "data": {
      "text/html": [
       "<div>\n",
       "<style scoped>\n",
       "    .dataframe tbody tr th:only-of-type {\n",
       "        vertical-align: middle;\n",
       "    }\n",
       "\n",
       "    .dataframe tbody tr th {\n",
       "        vertical-align: top;\n",
       "    }\n",
       "\n",
       "    .dataframe thead th {\n",
       "        text-align: right;\n",
       "    }\n",
       "</style>\n",
       "<table border=\"1\" class=\"dataframe\">\n",
       "  <thead>\n",
       "    <tr style=\"text-align: right;\">\n",
       "      <th></th>\n",
       "      <th>row_id</th>\n",
       "      <th>id</th>\n",
       "      <th>full_address</th>\n",
       "    </tr>\n",
       "  </thead>\n",
       "  <tbody>\n",
       "    <tr>\n",
       "      <th>0</th>\n",
       "      <td>1</td>\n",
       "      <td>56343</td>\n",
       "      <td>город Пушкин, Кедринская улица, дом 12</td>\n",
       "    </tr>\n",
       "    <tr>\n",
       "      <th>1</th>\n",
       "      <td>2</td>\n",
       "      <td>595</td>\n",
       "      <td>поселок Ушково, Пляжевая улица, дом 4Б</td>\n",
       "    </tr>\n",
       "    <tr>\n",
       "      <th>2</th>\n",
       "      <td>3</td>\n",
       "      <td>7134</td>\n",
       "      <td>г.Санкт-Петербург, проспект Маршала Жукова, до...</td>\n",
       "    </tr>\n",
       "    <tr>\n",
       "      <th>3</th>\n",
       "      <td>4</td>\n",
       "      <td>124415</td>\n",
       "      <td>поселок Белоостров, Дюны, Центральная улица, д...</td>\n",
       "    </tr>\n",
       "    <tr>\n",
       "      <th>4</th>\n",
       "      <td>5</td>\n",
       "      <td>185368</td>\n",
       "      <td>поселок Песочный, Речная улица, дом 28, литера Б</td>\n",
       "    </tr>\n",
       "    <tr>\n",
       "      <th>5</th>\n",
       "      <td>6</td>\n",
       "      <td>2459</td>\n",
       "      <td>г.Санкт-Петербург, Большой проспект П.С., дом ...</td>\n",
       "    </tr>\n",
       "    <tr>\n",
       "      <th>6</th>\n",
       "      <td>7</td>\n",
       "      <td>112309</td>\n",
       "      <td>поселок Солнечное, Комсомольская улица, дом 15...</td>\n",
       "    </tr>\n",
       "    <tr>\n",
       "      <th>7</th>\n",
       "      <td>8</td>\n",
       "      <td>187158</td>\n",
       "      <td>г.Санкт-Петербург, набережная Обводного канала...</td>\n",
       "    </tr>\n",
       "    <tr>\n",
       "      <th>8</th>\n",
       "      <td>9</td>\n",
       "      <td>16759</td>\n",
       "      <td>поселок Александровская, Беличья улица, дом 7</td>\n",
       "    </tr>\n",
       "    <tr>\n",
       "      <th>9</th>\n",
       "      <td>10</td>\n",
       "      <td>24236</td>\n",
       "      <td>поселок Парголово, Осиновая Роща, Вокзальное ш...</td>\n",
       "    </tr>\n",
       "  </tbody>\n",
       "</table>\n",
       "</div>"
      ],
      "text/plain": [
       "   row_id      id                                       full_address\n",
       "0       1   56343             город Пушкин, Кедринская улица, дом 12\n",
       "1       2     595             поселок Ушково, Пляжевая улица, дом 4Б\n",
       "2       3    7134  г.Санкт-Петербург, проспект Маршала Жукова, до...\n",
       "3       4  124415  поселок Белоостров, Дюны, Центральная улица, д...\n",
       "4       5  185368   поселок Песочный, Речная улица, дом 28, литера Б\n",
       "5       6    2459  г.Санкт-Петербург, Большой проспект П.С., дом ...\n",
       "6       7  112309  поселок Солнечное, Комсомольская улица, дом 15...\n",
       "7       8  187158  г.Санкт-Петербург, набережная Обводного канала...\n",
       "8       9   16759      поселок Александровская, Беличья улица, дом 7\n",
       "9      10   24236  поселок Парголово, Осиновая Роща, Вокзальное ш..."
      ]
     },
     "execution_count": 17,
     "metadata": {},
     "output_type": "execute_result"
    }
   ],
   "source": [
    "cursor.execute(\"SELECT * FROM building LIMIT 10;\")\n",
    "rows = cursor.fetchall()\n",
    "df = pd.DataFrame(rows, columns=[_.name for _ in cursor.description])\n",
    "df"
   ]
  },
  {
   "cell_type": "code",
   "execution_count": 18,
   "metadata": {},
   "outputs": [
    {
     "data": {
      "text/plain": [
       "(166645,)"
      ]
     },
     "execution_count": 18,
     "metadata": {},
     "output_type": "execute_result"
    }
   ],
   "source": [
    "cursor.execute(\"SELECT COUNT(*) FROM building;\")\n",
    "cursor.fetchone()"
   ]
  },
  {
   "cell_type": "code",
   "execution_count": 19,
   "metadata": {},
   "outputs": [
    {
     "data": {
      "text/plain": [
       "166645"
      ]
     },
     "execution_count": 19,
     "metadata": {},
     "output_type": "execute_result"
    }
   ],
   "source": [
    "len(data)"
   ]
  },
  {
   "cell_type": "code",
   "execution_count": 20,
   "metadata": {},
   "outputs": [
    {
     "data": {
      "text/html": [
       "<div>\n",
       "<style scoped>\n",
       "    .dataframe tbody tr th:only-of-type {\n",
       "        vertical-align: middle;\n",
       "    }\n",
       "\n",
       "    .dataframe tbody tr th {\n",
       "        vertical-align: top;\n",
       "    }\n",
       "\n",
       "    .dataframe thead th {\n",
       "        text-align: right;\n",
       "    }\n",
       "</style>\n",
       "<table border=\"1\" class=\"dataframe\">\n",
       "  <thead>\n",
       "    <tr style=\"text-align: right;\">\n",
       "      <th></th>\n",
       "      <th>id</th>\n",
       "      <th>full_address</th>\n",
       "    </tr>\n",
       "  </thead>\n",
       "  <tbody>\n",
       "    <tr>\n",
       "      <th>0</th>\n",
       "      <td>56343</td>\n",
       "      <td>город Пушкин, Кедринская улица, дом 12</td>\n",
       "    </tr>\n",
       "    <tr>\n",
       "      <th>1</th>\n",
       "      <td>595</td>\n",
       "      <td>поселок Ушково, Пляжевая улица, дом 4Б</td>\n",
       "    </tr>\n",
       "    <tr>\n",
       "      <th>2</th>\n",
       "      <td>7134</td>\n",
       "      <td>г.Санкт-Петербург, проспект Маршала Жукова, до...</td>\n",
       "    </tr>\n",
       "    <tr>\n",
       "      <th>3</th>\n",
       "      <td>124415</td>\n",
       "      <td>поселок Белоостров, Дюны, Центральная улица, д...</td>\n",
       "    </tr>\n",
       "    <tr>\n",
       "      <th>4</th>\n",
       "      <td>185368</td>\n",
       "      <td>поселок Песочный, Речная улица, дом 28, литера Б</td>\n",
       "    </tr>\n",
       "  </tbody>\n",
       "</table>\n",
       "</div>"
      ],
      "text/plain": [
       "       id                                       full_address\n",
       "0   56343             город Пушкин, Кедринская улица, дом 12\n",
       "1     595             поселок Ушково, Пляжевая улица, дом 4Б\n",
       "2    7134  г.Санкт-Петербург, проспект Маршала Жукова, до...\n",
       "3  124415  поселок Белоостров, Дюны, Центральная улица, д...\n",
       "4  185368   поселок Песочный, Речная улица, дом 28, литера Б"
      ]
     },
     "execution_count": 20,
     "metadata": {},
     "output_type": "execute_result"
    }
   ],
   "source": [
    "building_20230808.head()"
   ]
  },
  {
   "cell_type": "code",
   "execution_count": 22,
   "metadata": {},
   "outputs": [
    {
     "data": {
      "text/plain": [
       "array([['город Пушкин, Кедринская улица, дом 12'],\n",
       "       ['поселок Ушково, Пляжевая улица, дом 4Б'],\n",
       "       ['г.Санкт-Петербург, проспект Маршала Жукова, дом 30, корпус 2, литера Е'],\n",
       "       ['поселок Белоостров, Дюны, Центральная улица, дом 5, корпус 2'],\n",
       "       ['поселок Песочный, Речная улица, дом 28, литера Б']], dtype=object)"
      ]
     },
     "execution_count": 22,
     "metadata": {},
     "output_type": "execute_result"
    }
   ],
   "source": [
    "data = building_20230808.set_index('id').drop_duplicates().values\n",
    "data[:5]"
   ]
  },
  {
   "cell_type": "code",
   "execution_count": 23,
   "metadata": {},
   "outputs": [],
   "source": [
    "cursor.execute(\"DROP TABLE IF EXISTS train_building;\")\n",
    "connect.commit()"
   ]
  },
  {
   "cell_type": "code",
   "execution_count": 24,
   "metadata": {},
   "outputs": [],
   "source": [
    "cursor.execute(\"\"\"CREATE TABLE train_building( \n",
    "                row_id INTEGER PRIMARY KEY GENERATED BY DEFAULT AS IDENTITY, \n",
    "                full_address TEXT UNIQUE NOT NULL);\"\"\")\n",
    "connect.commit() "
   ]
  },
  {
   "cell_type": "code",
   "execution_count": 25,
   "metadata": {},
   "outputs": [],
   "source": [
    "cursor.executemany(\"\"\"INSERT INTO train_building( \n",
    "                      full_address) \n",
    "                      VALUES (%s);\"\"\", data)\n",
    "connect.commit()"
   ]
  },
  {
   "cell_type": "code",
   "execution_count": 26,
   "metadata": {},
   "outputs": [
    {
     "data": {
      "text/html": [
       "<div>\n",
       "<style scoped>\n",
       "    .dataframe tbody tr th:only-of-type {\n",
       "        vertical-align: middle;\n",
       "    }\n",
       "\n",
       "    .dataframe tbody tr th {\n",
       "        vertical-align: top;\n",
       "    }\n",
       "\n",
       "    .dataframe thead th {\n",
       "        text-align: right;\n",
       "    }\n",
       "</style>\n",
       "<table border=\"1\" class=\"dataframe\">\n",
       "  <thead>\n",
       "    <tr style=\"text-align: right;\">\n",
       "      <th></th>\n",
       "      <th>row_id</th>\n",
       "      <th>full_address</th>\n",
       "    </tr>\n",
       "  </thead>\n",
       "  <tbody>\n",
       "    <tr>\n",
       "      <th>0</th>\n",
       "      <td>1</td>\n",
       "      <td>город Пушкин, Кедринская улица, дом 12</td>\n",
       "    </tr>\n",
       "    <tr>\n",
       "      <th>1</th>\n",
       "      <td>2</td>\n",
       "      <td>поселок Ушково, Пляжевая улица, дом 4Б</td>\n",
       "    </tr>\n",
       "    <tr>\n",
       "      <th>2</th>\n",
       "      <td>3</td>\n",
       "      <td>г.Санкт-Петербург, проспект Маршала Жукова, до...</td>\n",
       "    </tr>\n",
       "    <tr>\n",
       "      <th>3</th>\n",
       "      <td>4</td>\n",
       "      <td>поселок Белоостров, Дюны, Центральная улица, д...</td>\n",
       "    </tr>\n",
       "    <tr>\n",
       "      <th>4</th>\n",
       "      <td>5</td>\n",
       "      <td>поселок Песочный, Речная улица, дом 28, литера Б</td>\n",
       "    </tr>\n",
       "    <tr>\n",
       "      <th>5</th>\n",
       "      <td>6</td>\n",
       "      <td>г.Санкт-Петербург, Большой проспект П.С., дом ...</td>\n",
       "    </tr>\n",
       "    <tr>\n",
       "      <th>6</th>\n",
       "      <td>7</td>\n",
       "      <td>поселок Солнечное, Комсомольская улица, дом 15...</td>\n",
       "    </tr>\n",
       "    <tr>\n",
       "      <th>7</th>\n",
       "      <td>8</td>\n",
       "      <td>г.Санкт-Петербург, набережная Обводного канала...</td>\n",
       "    </tr>\n",
       "    <tr>\n",
       "      <th>8</th>\n",
       "      <td>9</td>\n",
       "      <td>поселок Александровская, Беличья улица, дом 7</td>\n",
       "    </tr>\n",
       "    <tr>\n",
       "      <th>9</th>\n",
       "      <td>10</td>\n",
       "      <td>поселок Парголово, Осиновая Роща, Вокзальное ш...</td>\n",
       "    </tr>\n",
       "  </tbody>\n",
       "</table>\n",
       "</div>"
      ],
      "text/plain": [
       "   row_id                                       full_address\n",
       "0       1             город Пушкин, Кедринская улица, дом 12\n",
       "1       2             поселок Ушково, Пляжевая улица, дом 4Б\n",
       "2       3  г.Санкт-Петербург, проспект Маршала Жукова, до...\n",
       "3       4  поселок Белоостров, Дюны, Центральная улица, д...\n",
       "4       5   поселок Песочный, Речная улица, дом 28, литера Б\n",
       "5       6  г.Санкт-Петербург, Большой проспект П.С., дом ...\n",
       "6       7  поселок Солнечное, Комсомольская улица, дом 15...\n",
       "7       8  г.Санкт-Петербург, набережная Обводного канала...\n",
       "8       9      поселок Александровская, Беличья улица, дом 7\n",
       "9      10  поселок Парголово, Осиновая Роща, Вокзальное ш..."
      ]
     },
     "execution_count": 26,
     "metadata": {},
     "output_type": "execute_result"
    }
   ],
   "source": [
    "cursor.execute(\"SELECT * FROM train_building LIMIT 10;\")\n",
    "rows = cursor.fetchall()\n",
    "df = pd.DataFrame(rows, columns=[_.name for _ in cursor.description])\n",
    "df"
   ]
  },
  {
   "cell_type": "code",
   "execution_count": 27,
   "metadata": {},
   "outputs": [
    {
     "data": {
      "text/plain": [
       "(157734,)"
      ]
     },
     "execution_count": 27,
     "metadata": {},
     "output_type": "execute_result"
    }
   ],
   "source": [
    "cursor.execute(\"SELECT COUNT(*) FROM train_building;\")\n",
    "cursor.fetchone()"
   ]
  },
  {
   "cell_type": "code",
   "execution_count": 28,
   "metadata": {},
   "outputs": [
    {
     "data": {
      "text/plain": [
       "157734"
      ]
     },
     "execution_count": 28,
     "metadata": {},
     "output_type": "execute_result"
    }
   ],
   "source": [
    "len(data)"
   ]
  },
  {
   "cell_type": "code",
   "execution_count": 29,
   "metadata": {},
   "outputs": [],
   "source": [
    "cursor.execute(\"DROP TABLE IF EXISTS query_addrese;\")\n",
    "connect.commit()"
   ]
  },
  {
   "cell_type": "code",
   "execution_count": 11,
   "metadata": {},
   "outputs": [],
   "source": [
    "cursor.execute(\"\"\"CREATE TABLE query_addrese( \n",
    "                row_id INTEGER PRIMARY KEY GENERATED BY DEFAULT AS IDENTITY, \n",
    "                query_addrese TEXT UNIQUE NOT NULL,\n",
    "                count INTEGER);\"\"\")\n",
    "connect.commit() "
   ]
  },
  {
   "cell_type": "code",
   "execution_count": 12,
   "metadata": {},
   "outputs": [],
   "source": [
    "cursor.execute(\"DROP TABLE IF EXISTS predict_addrese;\")\n",
    "connect.commit()"
   ]
  },
  {
   "cell_type": "code",
   "execution_count": 17,
   "metadata": {},
   "outputs": [],
   "source": [
    "cursor.execute(\"\"\"CREATE TABLE predict_addrese( \n",
    "                row_id INTEGER PRIMARY KEY GENERATED BY DEFAULT AS IDENTITY, \n",
    "                predict_addrese TEXT UNIQUE NOT NULL,\n",
    "                count INTEGER);\"\"\")\n",
    "connect.commit() "
   ]
  },
  {
   "cell_type": "code",
   "execution_count": 18,
   "metadata": {},
   "outputs": [
    {
     "data": {
      "text/plain": [
       "[('building',), ('train_building',), ('query_addrese',), ('predict_addrese',)]"
      ]
     },
     "execution_count": 18,
     "metadata": {},
     "output_type": "execute_result"
    }
   ],
   "source": [
    "cursor.execute(\"SELECT table_name FROM information_schema.tables \\\n",
    "             WHERE table_schema NOT IN ('information_schema', 'pg_catalog') \\\n",
    "             AND table_schema IN('public', 'myschema');\")\n",
    "cursor.fetchall()"
   ]
  },
  {
   "cell_type": "code",
   "execution_count": 24,
   "metadata": {},
   "outputs": [],
   "source": [
    "connect.close()"
   ]
  }
 ],
 "metadata": {
  "kernelspec": {
   "display_name": "venv",
   "language": "python",
   "name": "python3"
  },
  "language_info": {
   "codemirror_mode": {
    "name": "ipython",
    "version": 3
   },
   "file_extension": ".py",
   "mimetype": "text/x-python",
   "name": "python",
   "nbconvert_exporter": "python",
   "pygments_lexer": "ipython3",
   "version": "3.11.3"
  },
  "orig_nbformat": 4
 },
 "nbformat": 4,
 "nbformat_minor": 2
}
